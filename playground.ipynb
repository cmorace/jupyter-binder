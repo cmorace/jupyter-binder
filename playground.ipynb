{
 "cells": [
  {
   "cell_type": "markdown",
   "metadata": {},
   "source": [
    "# Jupyter Playground\n",
    "This is a simple Jupyter notebook that you can edit online. It is hosted by github and served by mybinder.org. Pretty cool!\n",
    "\n",
    "<div class=\"alert alert-warning\">Warning \n",
    "    <div class=\"alert alert-warning\">\n",
    "        Your work will not be saved to this binder. If you would like to save your work, you can download the notebook as an `.ipynb` file with the download button and then open it by running jupyter notebook locally or opening it in an editor like VS Code.\n",
    "    </div>  \n",
    "</div>\n",
    "\n",
    "Use this notebook to explore the mybinder.org interface. It is very similar to the Jupyter Notebook interface and includes all of Jupyter Notebooks interface elements plus a few more options."
   ]
  },
  {
   "cell_type": "code",
   "execution_count": null,
   "metadata": {},
   "outputs": [],
   "source": [
    "# write python in a code block like this"
   ]
  }
 ],
 "metadata": {
  "kernelspec": {
   "display_name": "Python 3.8.5 vscode virtualenv",
   "language": "python",
   "name": "python3"
  },
  "language_info": {
   "codemirror_mode": {
    "name": "ipython",
    "version": 3
   },
   "file_extension": ".py",
   "mimetype": "text/x-python",
   "name": "python",
   "nbconvert_exporter": "python",
   "pygments_lexer": "ipython3",
   "version": "3.8.5"
  }
 },
 "nbformat": 4,
 "nbformat_minor": 4
}
