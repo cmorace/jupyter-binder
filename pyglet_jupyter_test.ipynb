{
 "cells": [
  {
   "cell_type": "code",
   "execution_count": 1,
   "id": "33cd3e27",
   "metadata": {},
   "outputs": [],
   "source": [
    "import pyglet\n",
    "\n",
    "\n",
    "window = pyglet.window.Window()\n",
    "label = pyglet.text.Label('Hello, world',\n",
    "                          font_name='Times New Roman',\n",
    "                          font_size=36,\n",
    "                          x=window.width//2, y=window.height//2,\n",
    "                          anchor_x='center', anchor_y='center')\n",
    "@window.event\n",
    "def on_close():\n",
    "    window.close()\n",
    "\n",
    "@window.event\n",
    "def on_draw():\n",
    "    window.clear()\n",
    "    label.draw()\n",
    "\n",
    "try:\n",
    "    from IPython.InteractiveShellApp import gui\n",
    "    gui('pyglet')\n",
    "except ImportError:\n",
    "    pyglet.app.run()"
   ]
  },
  {
   "cell_type": "code",
   "execution_count": null,
   "id": "8c8b08a6",
   "metadata": {},
   "outputs": [],
   "source": []
  }
 ],
 "metadata": {
  "kernelspec": {
   "display_name": "Python 3",
   "language": "python",
   "name": "python3"
  },
  "language_info": {
   "codemirror_mode": {
    "name": "ipython",
    "version": 3
   },
   "file_extension": ".py",
   "mimetype": "text/x-python",
   "name": "python",
   "nbconvert_exporter": "python",
   "pygments_lexer": "ipython3",
   "version": "3.9.3"
  }
 },
 "nbformat": 4,
 "nbformat_minor": 5
}
